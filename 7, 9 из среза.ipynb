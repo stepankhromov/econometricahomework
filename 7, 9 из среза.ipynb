{
 "cells": [
  {
   "cell_type": "code",
   "execution_count": 1,
   "id": "404df3a5",
   "metadata": {},
   "outputs": [
    {
     "name": "stdout",
     "output_type": "stream",
     "text": [
      "Requirement already satisfied: sktime in /Users/anna-air/opt/anaconda3/lib/python3.9/site-packages (0.37.0)\n",
      "Requirement already satisfied: joblib<1.5,>=1.2.0 in /Users/anna-air/opt/anaconda3/lib/python3.9/site-packages (from sktime) (1.4.2)\n",
      "Requirement already satisfied: pandas<2.3.0,>=1.1 in /Users/anna-air/opt/anaconda3/lib/python3.9/site-packages (from sktime) (1.4.4)\n",
      "Requirement already satisfied: scipy<2.0.0,>=1.2 in /Users/anna-air/opt/anaconda3/lib/python3.9/site-packages (from sktime) (1.9.1)\n",
      "Requirement already satisfied: scikit-base<0.13.0,>=0.6.1 in /Users/anna-air/opt/anaconda3/lib/python3.9/site-packages (from sktime) (0.12.2)\n",
      "Requirement already satisfied: numpy<2.3,>=1.21 in /Users/anna-air/opt/anaconda3/lib/python3.9/site-packages (from sktime) (1.21.5)\n",
      "Requirement already satisfied: packaging in /Users/anna-air/opt/anaconda3/lib/python3.9/site-packages (from sktime) (21.3)\n",
      "Requirement already satisfied: scikit-learn<1.7.0,>=0.24 in /Users/anna-air/opt/anaconda3/lib/python3.9/site-packages (from sktime) (1.0.2)\n",
      "Requirement already satisfied: python-dateutil>=2.8.1 in /Users/anna-air/opt/anaconda3/lib/python3.9/site-packages (from pandas<2.3.0,>=1.1->sktime) (2.8.2)\n",
      "Requirement already satisfied: pytz>=2020.1 in /Users/anna-air/opt/anaconda3/lib/python3.9/site-packages (from pandas<2.3.0,>=1.1->sktime) (2022.1)\n",
      "Requirement already satisfied: threadpoolctl>=2.0.0 in /Users/anna-air/opt/anaconda3/lib/python3.9/site-packages (from scikit-learn<1.7.0,>=0.24->sktime) (2.2.0)\n",
      "Requirement already satisfied: pyparsing!=3.0.5,>=2.0.2 in /Users/anna-air/opt/anaconda3/lib/python3.9/site-packages (from packaging->sktime) (3.0.9)\n",
      "Requirement already satisfied: six>=1.5 in /Users/anna-air/opt/anaconda3/lib/python3.9/site-packages (from python-dateutil>=2.8.1->pandas<2.3.0,>=1.1->sktime) (1.16.0)\n"
     ]
    }
   ],
   "source": [
    "!pip install sktime"
   ]
  },
  {
   "cell_type": "code",
   "execution_count": 2,
   "id": "9371aff6",
   "metadata": {},
   "outputs": [
    {
     "name": "stdout",
     "output_type": "stream",
     "text": [
      "Requirement already satisfied: pmdarima in /Users/anna-air/opt/anaconda3/lib/python3.9/site-packages (2.0.4)\n",
      "Requirement already satisfied: setuptools!=50.0.0,>=38.6.0 in /Users/anna-air/opt/anaconda3/lib/python3.9/site-packages (from pmdarima) (63.4.1)\n",
      "Requirement already satisfied: joblib>=0.11 in /Users/anna-air/opt/anaconda3/lib/python3.9/site-packages (from pmdarima) (1.4.2)\n",
      "Requirement already satisfied: pandas>=0.19 in /Users/anna-air/opt/anaconda3/lib/python3.9/site-packages (from pmdarima) (1.4.4)\n",
      "Requirement already satisfied: scipy>=1.3.2 in /Users/anna-air/opt/anaconda3/lib/python3.9/site-packages (from pmdarima) (1.9.1)\n",
      "Requirement already satisfied: numpy>=1.21.2 in /Users/anna-air/opt/anaconda3/lib/python3.9/site-packages (from pmdarima) (1.21.5)\n",
      "Requirement already satisfied: packaging>=17.1 in /Users/anna-air/opt/anaconda3/lib/python3.9/site-packages (from pmdarima) (21.3)\n",
      "Requirement already satisfied: Cython!=0.29.18,!=0.29.31,>=0.29 in /Users/anna-air/opt/anaconda3/lib/python3.9/site-packages (from pmdarima) (0.29.32)\n",
      "Requirement already satisfied: urllib3 in /Users/anna-air/opt/anaconda3/lib/python3.9/site-packages (from pmdarima) (1.26.11)\n",
      "Requirement already satisfied: scikit-learn>=0.22 in /Users/anna-air/opt/anaconda3/lib/python3.9/site-packages (from pmdarima) (1.0.2)\n",
      "Requirement already satisfied: statsmodels>=0.13.2 in /Users/anna-air/opt/anaconda3/lib/python3.9/site-packages (from pmdarima) (0.13.2)\n",
      "Requirement already satisfied: pyparsing!=3.0.5,>=2.0.2 in /Users/anna-air/opt/anaconda3/lib/python3.9/site-packages (from packaging>=17.1->pmdarima) (3.0.9)\n",
      "Requirement already satisfied: python-dateutil>=2.8.1 in /Users/anna-air/opt/anaconda3/lib/python3.9/site-packages (from pandas>=0.19->pmdarima) (2.8.2)\n",
      "Requirement already satisfied: pytz>=2020.1 in /Users/anna-air/opt/anaconda3/lib/python3.9/site-packages (from pandas>=0.19->pmdarima) (2022.1)\n",
      "Requirement already satisfied: threadpoolctl>=2.0.0 in /Users/anna-air/opt/anaconda3/lib/python3.9/site-packages (from scikit-learn>=0.22->pmdarima) (2.2.0)\n",
      "Requirement already satisfied: patsy>=0.5.2 in /Users/anna-air/opt/anaconda3/lib/python3.9/site-packages (from statsmodels>=0.13.2->pmdarima) (0.5.2)\n",
      "Requirement already satisfied: six in /Users/anna-air/opt/anaconda3/lib/python3.9/site-packages (from patsy>=0.5.2->statsmodels>=0.13.2->pmdarima) (1.16.0)\n"
     ]
    }
   ],
   "source": [
    "!pip install pmdarima"
   ]
  },
  {
   "cell_type": "code",
   "execution_count": 3,
   "id": "ce7e52b3",
   "metadata": {},
   "outputs": [
    {
     "name": "stdout",
     "output_type": "stream",
     "text": [
      "Requirement already satisfied: pandas_datareader in /Users/anna-air/opt/anaconda3/lib/python3.9/site-packages (0.10.0)\r\n",
      "Requirement already satisfied: pandas>=0.23 in /Users/anna-air/opt/anaconda3/lib/python3.9/site-packages (from pandas_datareader) (1.4.4)\r\n",
      "Requirement already satisfied: requests>=2.19.0 in /Users/anna-air/opt/anaconda3/lib/python3.9/site-packages (from pandas_datareader) (2.28.1)\r\n",
      "Requirement already satisfied: lxml in /Users/anna-air/opt/anaconda3/lib/python3.9/site-packages (from pandas_datareader) (4.9.1)\r\n",
      "Requirement already satisfied: python-dateutil>=2.8.1 in /Users/anna-air/opt/anaconda3/lib/python3.9/site-packages (from pandas>=0.23->pandas_datareader) (2.8.2)\r\n",
      "Requirement already satisfied: pytz>=2020.1 in /Users/anna-air/opt/anaconda3/lib/python3.9/site-packages (from pandas>=0.23->pandas_datareader) (2022.1)\r\n",
      "Requirement already satisfied: numpy>=1.18.5 in /Users/anna-air/opt/anaconda3/lib/python3.9/site-packages (from pandas>=0.23->pandas_datareader) (1.21.5)\r\n",
      "Requirement already satisfied: certifi>=2017.4.17 in /Users/anna-air/opt/anaconda3/lib/python3.9/site-packages (from requests>=2.19.0->pandas_datareader) (2022.9.24)\r\n",
      "Requirement already satisfied: charset-normalizer<3,>=2 in /Users/anna-air/opt/anaconda3/lib/python3.9/site-packages (from requests>=2.19.0->pandas_datareader) (2.0.4)\r\n",
      "Requirement already satisfied: idna<4,>=2.5 in /Users/anna-air/opt/anaconda3/lib/python3.9/site-packages (from requests>=2.19.0->pandas_datareader) (3.3)\r\n",
      "Requirement already satisfied: urllib3<1.27,>=1.21.1 in /Users/anna-air/opt/anaconda3/lib/python3.9/site-packages (from requests>=2.19.0->pandas_datareader) (1.26.11)\r\n",
      "Requirement already satisfied: six>=1.5 in /Users/anna-air/opt/anaconda3/lib/python3.9/site-packages (from python-dateutil>=2.8.1->pandas>=0.23->pandas_datareader) (1.16.0)\r\n"
     ]
    }
   ],
   "source": [
    "!pip install pandas_datareader"
   ]
  },
  {
   "cell_type": "code",
   "execution_count": 8,
   "id": "78ed7eaf",
   "metadata": {},
   "outputs": [],
   "source": [
    "import numpy as np\n",
    "import pandas as pd\n",
    "\n",
    "from sktime.forecasting.arima import ARIMA, AutoARIMA\n",
    "# from sktime.forecasting.arima import StatsModelsARIMA\n",
    "# from sktime.forecasting.statsforecast import StatsForecastAutoARIMA\n",
    "from sktime.utils.plotting import plot_series\n",
    "# временной горизонт для прогнозирования\n",
    "from sktime.forecasting.base import ForecastingHorizon\n",
    "\n",
    "import pandas_datareader.data as web\n",
    "from statsmodels.tsa.api import acf, pacf\n",
    "from sktime.transformations.series.acf import AutoCorrelationTransformer, PartialAutoCorrelationTransformer\n",
    "from sktime.utils.plotting import plot_correlations\n",
    "from statsmodels.tsa.arima.model import ARIMA\n",
    "\n",
    "# тесты диагностики\n",
    "from statsmodels.stats.diagnostic import het_arch, acorr_ljungbox\n",
    "\n",
    "# настройки визуализации\n",
    "import matplotlib.pyplot as plt\n",
    "\n",
    "# Не показывать Warnings\n",
    "import warnings\n",
    "warnings.simplefilter(action='ignore', category=Warning)\n",
    "# Не показывать ValueWarning, ConvergenceWarning из statsmodels\n",
    "from statsmodels.tools.sm_exceptions import ValueWarning, ConvergenceWarning\n",
    "warnings.simplefilter('ignore', category=ValueWarning)\n",
    "warnings.simplefilter('ignore', category=ConvergenceWarning)"
   ]
  },
  {
   "cell_type": "markdown",
   "id": "c75c0678",
   "metadata": {},
   "source": [
    "## Задание 7"
   ]
  },
  {
   "cell_type": "code",
   "execution_count": 5,
   "id": "074b2759",
   "metadata": {},
   "outputs": [],
   "source": [
    "y7 = web.DataReader(name='WAAA', data_source='fred', start='2005-01-01')"
   ]
  },
  {
   "cell_type": "code",
   "execution_count": 9,
   "id": "8c289092",
   "metadata": {},
   "outputs": [
    {
     "data": {
      "text/html": [
       "<table class=\"simpletable\">\n",
       "<caption>SARIMAX Results</caption>\n",
       "<tr>\n",
       "  <th>Dep. Variable:</th>         <td>WAAA</td>       <th>  No. Observations:  </th>   <td>1057</td>   \n",
       "</tr>\n",
       "<tr>\n",
       "  <th>Model:</th>            <td>ARIMA(2, 1, 1)</td>  <th>  Log Likelihood     </th> <td>1006.036</td> \n",
       "</tr>\n",
       "<tr>\n",
       "  <th>Date:</th>            <td>Mon, 14 Apr 2025</td> <th>  AIC                </th> <td>-2004.072</td>\n",
       "</tr>\n",
       "<tr>\n",
       "  <th>Time:</th>                <td>01:43:33</td>     <th>  BIC                </th> <td>-1984.223</td>\n",
       "</tr>\n",
       "<tr>\n",
       "  <th>Sample:</th>             <td>01-07-2005</td>    <th>  HQIC               </th> <td>-1996.548</td>\n",
       "</tr>\n",
       "<tr>\n",
       "  <th></th>                   <td>- 04-04-2025</td>   <th>                     </th>     <td> </td>    \n",
       "</tr>\n",
       "<tr>\n",
       "  <th>Covariance Type:</th>        <td>opg</td>       <th>                     </th>     <td> </td>    \n",
       "</tr>\n",
       "</table>\n",
       "<table class=\"simpletable\">\n",
       "<tr>\n",
       "     <td></td>       <th>coef</th>     <th>std err</th>      <th>z</th>      <th>P>|z|</th>  <th>[0.005</th>    <th>0.995]</th>  \n",
       "</tr>\n",
       "<tr>\n",
       "  <th>ar.L1</th>  <td>   -0.7772</td> <td>    1.748</td> <td>   -0.445</td> <td> 0.657</td> <td>   -5.281</td> <td>    3.726</td>\n",
       "</tr>\n",
       "<tr>\n",
       "  <th>ar.L2</th>  <td>    0.1806</td> <td>    0.321</td> <td>    0.563</td> <td> 0.574</td> <td>   -0.646</td> <td>    1.007</td>\n",
       "</tr>\n",
       "<tr>\n",
       "  <th>ma.L1</th>  <td>    0.9641</td> <td>    1.750</td> <td>    0.551</td> <td> 0.582</td> <td>   -3.542</td> <td>    5.471</td>\n",
       "</tr>\n",
       "<tr>\n",
       "  <th>sigma2</th> <td>    0.0087</td> <td>    0.000</td> <td>   52.291</td> <td> 0.000</td> <td>    0.008</td> <td>    0.009</td>\n",
       "</tr>\n",
       "</table>\n",
       "<table class=\"simpletable\">\n",
       "<tr>\n",
       "  <th>Ljung-Box (L1) (Q):</th>     <td>0.08</td> <th>  Jarque-Bera (JB):  </th> <td>3534.11</td>\n",
       "</tr>\n",
       "<tr>\n",
       "  <th>Prob(Q):</th>                <td>0.78</td> <th>  Prob(JB):          </th>  <td>0.00</td>  \n",
       "</tr>\n",
       "<tr>\n",
       "  <th>Heteroskedasticity (H):</th> <td>1.30</td> <th>  Skew:              </th>  <td>0.26</td>  \n",
       "</tr>\n",
       "<tr>\n",
       "  <th>Prob(H) (two-sided):</th>    <td>0.01</td> <th>  Kurtosis:          </th>  <td>11.95</td> \n",
       "</tr>\n",
       "</table><br/><br/>Warnings:<br/>[1] Covariance matrix calculated using the outer product of gradients (complex-step)."
      ],
      "text/plain": [
       "<class 'statsmodels.iolib.summary.Summary'>\n",
       "\"\"\"\n",
       "                               SARIMAX Results                                \n",
       "==============================================================================\n",
       "Dep. Variable:                   WAAA   No. Observations:                 1057\n",
       "Model:                 ARIMA(2, 1, 1)   Log Likelihood                1006.036\n",
       "Date:                Mon, 14 Apr 2025   AIC                          -2004.072\n",
       "Time:                        01:43:33   BIC                          -1984.223\n",
       "Sample:                    01-07-2005   HQIC                         -1996.548\n",
       "                         - 04-04-2025                                         \n",
       "Covariance Type:                  opg                                         \n",
       "==============================================================================\n",
       "                 coef    std err          z      P>|z|      [0.005      0.995]\n",
       "------------------------------------------------------------------------------\n",
       "ar.L1         -0.7772      1.748     -0.445      0.657      -5.281       3.726\n",
       "ar.L2          0.1806      0.321      0.563      0.574      -0.646       1.007\n",
       "ma.L1          0.9641      1.750      0.551      0.582      -3.542       5.471\n",
       "sigma2         0.0087      0.000     52.291      0.000       0.008       0.009\n",
       "===================================================================================\n",
       "Ljung-Box (L1) (Q):                   0.08   Jarque-Bera (JB):              3534.11\n",
       "Prob(Q):                              0.78   Prob(JB):                         0.00\n",
       "Heteroskedasticity (H):               1.30   Skew:                             0.26\n",
       "Prob(H) (two-sided):                  0.01   Kurtosis:                        11.95\n",
       "===================================================================================\n",
       "\n",
       "Warnings:\n",
       "[1] Covariance matrix calculated using the outer product of gradients (complex-step).\n",
       "\"\"\""
      ]
     },
     "execution_count": 9,
     "metadata": {},
     "output_type": "execute_result"
    }
   ],
   "source": [
    "# спецификация модели\n",
    "mod = ARIMA(y7, order=(2,1,1), trend='n', missing='drop')\n",
    "# подгонка модели на данных\n",
    "res = mod.fit()\n",
    "# выводим результаты подгонки\n",
    "res.summary(alpha=0.01)"
   ]
  },
  {
   "cell_type": "code",
   "execution_count": 10,
   "id": "b3f9da04",
   "metadata": {},
   "outputs": [
    {
     "data": {
      "text/plain": [
       "2025-04-11    5.245068\n",
       "Freq: W-FRI, dtype: float64"
      ]
     },
     "execution_count": 10,
     "metadata": {},
     "output_type": "execute_result"
    }
   ],
   "source": [
    "forecasts = res.forecast(steps=1)\n",
    "forecasts"
   ]
  },
  {
   "cell_type": "markdown",
   "id": "d611ebaf",
   "metadata": {},
   "source": [
    "## Задание 9"
   ]
  },
  {
   "cell_type": "code",
   "execution_count": 11,
   "id": "fcf6bb49",
   "metadata": {},
   "outputs": [
    {
     "data": {
      "text/html": [
       "<div>\n",
       "<style scoped>\n",
       "    .dataframe tbody tr th:only-of-type {\n",
       "        vertical-align: middle;\n",
       "    }\n",
       "\n",
       "    .dataframe tbody tr th {\n",
       "        vertical-align: top;\n",
       "    }\n",
       "\n",
       "    .dataframe thead th {\n",
       "        text-align: right;\n",
       "    }\n",
       "</style>\n",
       "<table border=\"1\" class=\"dataframe\">\n",
       "  <thead>\n",
       "    <tr style=\"text-align: right;\">\n",
       "      <th></th>\n",
       "      <th>MORTGAGE30US</th>\n",
       "    </tr>\n",
       "    <tr>\n",
       "      <th>DATE</th>\n",
       "      <th></th>\n",
       "    </tr>\n",
       "  </thead>\n",
       "  <tbody>\n",
       "    <tr>\n",
       "      <th>2010-01-07</th>\n",
       "      <td>5.09</td>\n",
       "    </tr>\n",
       "    <tr>\n",
       "      <th>2010-01-14</th>\n",
       "      <td>5.06</td>\n",
       "    </tr>\n",
       "    <tr>\n",
       "      <th>2010-01-21</th>\n",
       "      <td>4.99</td>\n",
       "    </tr>\n",
       "    <tr>\n",
       "      <th>2010-01-28</th>\n",
       "      <td>4.98</td>\n",
       "    </tr>\n",
       "    <tr>\n",
       "      <th>2010-02-04</th>\n",
       "      <td>5.01</td>\n",
       "    </tr>\n",
       "    <tr>\n",
       "      <th>...</th>\n",
       "      <td>...</td>\n",
       "    </tr>\n",
       "    <tr>\n",
       "      <th>2023-12-28</th>\n",
       "      <td>6.61</td>\n",
       "    </tr>\n",
       "    <tr>\n",
       "      <th>2024-01-04</th>\n",
       "      <td>6.62</td>\n",
       "    </tr>\n",
       "    <tr>\n",
       "      <th>2024-01-11</th>\n",
       "      <td>6.66</td>\n",
       "    </tr>\n",
       "    <tr>\n",
       "      <th>2024-01-18</th>\n",
       "      <td>6.60</td>\n",
       "    </tr>\n",
       "    <tr>\n",
       "      <th>2024-01-25</th>\n",
       "      <td>6.69</td>\n",
       "    </tr>\n",
       "  </tbody>\n",
       "</table>\n",
       "<p>734 rows × 1 columns</p>\n",
       "</div>"
      ],
      "text/plain": [
       "            MORTGAGE30US\n",
       "DATE                    \n",
       "2010-01-07          5.09\n",
       "2010-01-14          5.06\n",
       "2010-01-21          4.99\n",
       "2010-01-28          4.98\n",
       "2010-02-04          5.01\n",
       "...                  ...\n",
       "2023-12-28          6.61\n",
       "2024-01-04          6.62\n",
       "2024-01-11          6.66\n",
       "2024-01-18          6.60\n",
       "2024-01-25          6.69\n",
       "\n",
       "[734 rows x 1 columns]"
      ]
     },
     "execution_count": 11,
     "metadata": {},
     "output_type": "execute_result"
    }
   ],
   "source": [
    "mortgage9 = web.DataReader(name='MORTGAGE30US', data_source='fred', start='2010-01-01', end='2024-01-31' )\n",
    "mortgage9"
   ]
  },
  {
   "cell_type": "code",
   "execution_count": 12,
   "id": "e7a60a73",
   "metadata": {},
   "outputs": [],
   "source": [
    "y9=mortgage9"
   ]
  },
  {
   "cell_type": "code",
   "execution_count": 13,
   "id": "858f78a5",
   "metadata": {},
   "outputs": [],
   "source": [
    "from statsmodels.tsa.api import adfuller, kpss, range_unit_root_test"
   ]
  },
  {
   "cell_type": "code",
   "execution_count": 15,
   "id": "8b152894",
   "metadata": {},
   "outputs": [
    {
     "data": {
      "text/plain": [
       "(0.39748368609613366,\n",
       " 0.01,\n",
       " {'10%': 0.119, '5%': 0.146, '2.5%': 0.176, '1%': 0.216})"
      ]
     },
     "execution_count": 15,
     "metadata": {},
     "output_type": "execute_result"
    }
   ],
   "source": [
    "kpss_stat, p_value, lags, crit = kpss(y9, regression='ct')\n",
    "# тестовая статистика, её p-значение и критические значения\n",
    "kpss_stat, p_value, crit"
   ]
  },
  {
   "cell_type": "code",
   "execution_count": null,
   "id": "071e0d2a",
   "metadata": {},
   "outputs": [],
   "source": [
    "kpss_stat=0,397\n",
    "crit = 0,146\n",
    "kpss_stat > crit; p_value =0.01 <0.05 - отвергаем гипотезу H0,то есть нестационарный "
   ]
  }
 ],
 "metadata": {
  "kernelspec": {
   "display_name": "Python 3 (ipykernel)",
   "language": "python",
   "name": "python3"
  },
  "language_info": {
   "codemirror_mode": {
    "name": "ipython",
    "version": 3
   },
   "file_extension": ".py",
   "mimetype": "text/x-python",
   "name": "python",
   "nbconvert_exporter": "python",
   "pygments_lexer": "ipython3",
   "version": "3.9.13"
  }
 },
 "nbformat": 4,
 "nbformat_minor": 5
}
