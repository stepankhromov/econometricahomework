{
 "cells": [
  {
   "cell_type": "code",
   "execution_count": 1,
   "id": "2d315ed6",
   "metadata": {},
   "outputs": [],
   "source": [
    "import numpy as np \n",
    "import pandas as pd\n",
    "import statsmodels.formula.api as smf\n",
    "import seaborn as sns"
   ]
  },
  {
   "cell_type": "code",
   "execution_count": 2,
   "id": "7b08c834",
   "metadata": {},
   "outputs": [
    {
     "data": {
      "text/plain": [
       "(706, 34)"
      ]
     },
     "execution_count": 2,
     "metadata": {},
     "output_type": "execute_result"
    }
   ],
   "source": [
    "df = pd.read_csv('https://raw.githubusercontent.com/artamonoff/Econometrica/master/python-notebooks/data-csv/sleep75.csv')\n",
    "df.shape"
   ]
  },
  {
   "cell_type": "code",
   "execution_count": 3,
   "id": "d1be7dbd",
   "metadata": {},
   "outputs": [
    {
     "data": {
      "text/plain": [
       "Intercept    3469.20\n",
       "totwrk         -0.15\n",
       "age             2.92\n",
       "dtype: float64"
      ]
     },
     "execution_count": 3,
     "metadata": {},
     "output_type": "execute_result"
    }
   ],
   "source": [
    "fitted_plane = smf.ols(formula='sleep~totwrk+age', data=df).fit()\n",
    "fitted_plane.params.round(2)"
   ]
  },
  {
   "cell_type": "markdown",
   "id": "c85fd7ab",
   "metadata": {},
   "source": [
    "## Ответ: Intercept = 3469.20; totwrk = -0.15; age = 2.92 (параметры оптимальной плоскости sleep на totwrk, age)"
   ]
  },
  {
   "cell_type": "code",
   "execution_count": null,
   "id": "0c6c2987",
   "metadata": {},
   "outputs": [],
   "source": []
  }
 ],
 "metadata": {
  "kernelspec": {
   "display_name": "Python 3 (ipykernel)",
   "language": "python",
   "name": "python3"
  },
  "language_info": {
   "codemirror_mode": {
    "name": "ipython",
    "version": 3
   },
   "file_extension": ".py",
   "mimetype": "text/x-python",
   "name": "python",
   "nbconvert_exporter": "python",
   "pygments_lexer": "ipython3",
   "version": "3.9.13"
  }
 },
 "nbformat": 4,
 "nbformat_minor": 5
}
