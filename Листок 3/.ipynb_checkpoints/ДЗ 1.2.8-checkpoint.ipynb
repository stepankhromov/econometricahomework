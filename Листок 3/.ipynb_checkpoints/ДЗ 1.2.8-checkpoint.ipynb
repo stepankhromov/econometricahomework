{
 "cells": [
  {
   "cell_type": "code",
   "execution_count": 1,
   "id": "24afcd13",
   "metadata": {},
   "outputs": [],
   "source": [
    "import pandas as pd\n",
    "import numpy as np\n",
    "import io\n",
    "import statsmodels.formula.api as smf"
   ]
  },
  {
   "cell_type": "code",
   "execution_count": 3,
   "id": "4882f307",
   "metadata": {},
   "outputs": [],
   "source": [
    "n=935\n",
    "k=4\n",
    "s=0.383\n",
    "R2=0.178"
   ]
  },
  {
   "cell_type": "markdown",
   "id": "e71ca00f",
   "metadata": {},
   "source": [
    "$$\n",
    "R^2 = 1-\\frac{RSS}{TSS}\n",
    "$$"
   ]
  },
  {
   "cell_type": "markdown",
   "id": "71a2138b",
   "metadata": {},
   "source": [
    "# Тогда\n",
    "$$\n",
    "TSS = \\frac {RSS}{1-R^2} = \\frac {(n-k-1)*s^2}{1-R^2}\n",
    "$$"
   ]
  },
  {
   "cell_type": "code",
   "execution_count": 6,
   "id": "2152b6e7",
   "metadata": {},
   "outputs": [
    {
     "data": {
      "text/plain": [
       "165.962"
      ]
     },
     "execution_count": 6,
     "metadata": {},
     "output_type": "execute_result"
    }
   ],
   "source": [
    "TSS=((n-k-1)*s**2)/(1-R2)\n",
    "round(TSS,3)"
   ]
  },
  {
   "cell_type": "markdown",
   "id": "c74153e1",
   "metadata": {},
   "source": [
    "$$\n",
    "TSS = 165.962\n",
    "$$"
   ]
  }
 ],
 "metadata": {
  "kernelspec": {
   "display_name": "Python 3 (ipykernel)",
   "language": "python",
   "name": "python3"
  },
  "language_info": {
   "codemirror_mode": {
    "name": "ipython",
    "version": 3
   },
   "file_extension": ".py",
   "mimetype": "text/x-python",
   "name": "python",
   "nbconvert_exporter": "python",
   "pygments_lexer": "ipython3",
   "version": "3.9.13"
  }
 },
 "nbformat": 4,
 "nbformat_minor": 5
}
