{
 "cells": [
  {
   "cell_type": "markdown",
   "id": "bb8b1721",
   "metadata": {},
   "source": [
    "# Задача 2.2"
   ]
  },
  {
   "cell_type": "code",
   "execution_count": null,
   "id": "fdb9c961",
   "metadata": {},
   "outputs": [],
   "source": [
    "import pandas as pd\n",
    "import numpy as np\n",
    "import io\n",
    "import statsmodels.formula.api as smf"
   ]
  },
  {
   "cell_type": "markdown",
   "id": "a16d482f",
   "metadata": {},
   "source": [
    "$$\n",
    "R^2_{adj}=1-(1-R^2)*\\frac{(n-1)}{(n-k-1)}\n",
    "$$"
   ]
  },
  {
   "cell_type": "code",
   "execution_count": 1,
   "id": "633ef438",
   "metadata": {},
   "outputs": [],
   "source": [
    "n=935 \n",
    "k=6\n",
    "R2=0.201"
   ]
  },
  {
   "cell_type": "code",
   "execution_count": 2,
   "id": "51ec19bb",
   "metadata": {},
   "outputs": [
    {
     "data": {
      "text/plain": [
       "0.196"
      ]
     },
     "execution_count": 2,
     "metadata": {},
     "output_type": "execute_result"
    }
   ],
   "source": [
    "R2adj=1-(1-R2)*(n-1)/(n-k-1)\n",
    "round(R2adj,3)"
   ]
  },
  {
   "cell_type": "markdown",
   "id": "07c3b732",
   "metadata": {},
   "source": [
    "$$\n",
    "R^2_{adj}=0.196\n",
    "$$"
   ]
  }
 ],
 "metadata": {
  "kernelspec": {
   "display_name": "Python 3 (ipykernel)",
   "language": "python",
   "name": "python3"
  },
  "language_info": {
   "codemirror_mode": {
    "name": "ipython",
    "version": 3
   },
   "file_extension": ".py",
   "mimetype": "text/x-python",
   "name": "python",
   "nbconvert_exporter": "python",
   "pygments_lexer": "ipython3",
   "version": "3.9.13"
  }
 },
 "nbformat": 4,
 "nbformat_minor": 5
}
