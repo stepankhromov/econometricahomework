{
 "cells": [
  {
   "cell_type": "markdown",
   "id": "e6056932",
   "metadata": {},
   "source": [
    "# Задача 2.2"
   ]
  },
  {
   "cell_type": "code",
   "execution_count": null,
   "id": "bf4d223a",
   "metadata": {},
   "outputs": [],
   "source": [
    "import pandas as pd\n",
    "import numpy as np\n",
    "import io\n",
    "import statsmodels.formula.api as smf"
   ]
  },
  {
   "cell_type": "markdown",
   "id": "a0dc4976",
   "metadata": {},
   "source": [
    "$$\n",
    "R^2_{adj}=1-(1-R^2)*\\frac{(n-1)}{(n-k)}\n",
    "$$"
   ]
  },
  {
   "cell_type": "code",
   "execution_count": 1,
   "id": "8c857477",
   "metadata": {},
   "outputs": [],
   "source": [
    "n=935 \n",
    "k=6\n",
    "R2=0.201"
   ]
  },
  {
   "cell_type": "code",
   "execution_count": 2,
   "id": "5bd331b9",
   "metadata": {},
   "outputs": [
    {
     "data": {
      "text/plain": [
       "0.197"
      ]
     },
     "execution_count": 2,
     "metadata": {},
     "output_type": "execute_result"
    }
   ],
   "source": [
    "R2adj=1-(1-R2)*(n-1)/(n-k)\n",
    "round(R2adj,3)"
   ]
  },
  {
   "cell_type": "markdown",
   "id": "49dadf3c",
   "metadata": {},
   "source": [
    "$$\n",
    "R^2_{adj}=0.197\n",
    "$$"
   ]
  }
 ],
 "metadata": {
  "kernelspec": {
   "display_name": "Python 3 (ipykernel)",
   "language": "python",
   "name": "python3"
  },
  "language_info": {
   "codemirror_mode": {
    "name": "ipython",
    "version": 3
   },
   "file_extension": ".py",
   "mimetype": "text/x-python",
   "name": "python",
   "nbconvert_exporter": "python",
   "pygments_lexer": "ipython3",
   "version": "3.9.13"
  }
 },
 "nbformat": 4,
 "nbformat_minor": 5
}
