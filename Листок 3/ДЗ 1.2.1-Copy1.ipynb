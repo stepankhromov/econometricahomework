{
 "cells": [
  {
   "cell_type": "markdown",
   "id": "17abac6f",
   "metadata": {},
   "source": [
    "# Задача 1.2.1"
   ]
  },
  {
   "cell_type": "code",
   "execution_count": 1,
   "id": "41f64036",
   "metadata": {},
   "outputs": [],
   "source": [
    "import pandas as pd\n",
    "import numpy as np\n",
    "import io\n",
    "import statsmodels.formula.api as smf"
   ]
  },
  {
   "cell_type": "code",
   "execution_count": 2,
   "id": "dd1cb317",
   "metadata": {},
   "outputs": [],
   "source": [
    "TSS=100.35\n",
    "ESS=47.56"
   ]
  },
  {
   "cell_type": "code",
   "execution_count": 4,
   "id": "397acc2b",
   "metadata": {},
   "outputs": [
    {
     "data": {
      "text/plain": [
       "0.47"
      ]
     },
     "execution_count": 4,
     "metadata": {},
     "output_type": "execute_result"
    }
   ],
   "source": [
    "R2=ESS/TSS\n",
    "round(R2,2)"
   ]
  },
  {
   "cell_type": "code",
   "execution_count": 6,
   "id": "3583b266",
   "metadata": {},
   "outputs": [
    {
     "data": {
      "text/plain": [
       "52.79"
      ]
     },
     "execution_count": 6,
     "metadata": {},
     "output_type": "execute_result"
    }
   ],
   "source": [
    "RSS=TSS-ESS\n",
    "round (RSS,2)"
   ]
  },
  {
   "cell_type": "markdown",
   "id": "df22db36",
   "metadata": {},
   "source": [
    "$$\n",
    "R^2 = 52.79, RSS = 0.47\n",
    "$$"
   ]
  }
 ],
 "metadata": {
  "kernelspec": {
   "display_name": "Python 3 (ipykernel)",
   "language": "python",
   "name": "python3"
  },
  "language_info": {
   "codemirror_mode": {
    "name": "ipython",
    "version": 3
   },
   "file_extension": ".py",
   "mimetype": "text/x-python",
   "name": "python",
   "nbconvert_exporter": "python",
   "pygments_lexer": "ipython3",
   "version": "3.9.13"
  }
 },
 "nbformat": 4,
 "nbformat_minor": 5
}
