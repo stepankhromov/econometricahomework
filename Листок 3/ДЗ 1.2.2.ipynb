{
 "cells": [
  {
   "cell_type": "markdown",
   "id": "e2a3498d",
   "metadata": {},
   "source": [
    "# Задача 1.2.2"
   ]
  },
  {
   "cell_type": "code",
   "execution_count": 7,
   "id": "690dee07",
   "metadata": {},
   "outputs": [],
   "source": [
    "import pandas as pd\n",
    "import numpy as np\n",
    "import io\n",
    "import statsmodels.formula.api as smf"
   ]
  },
  {
   "cell_type": "code",
   "execution_count": 4,
   "id": "e7f04493",
   "metadata": {},
   "outputs": [
    {
     "data": {
      "text/plain": [
       "147.3"
      ]
     },
     "execution_count": 4,
     "metadata": {},
     "output_type": "execute_result"
    }
   ],
   "source": [
    "TSS=240.82\n",
    "RSS=93.52\n",
    "ESS=TSS-RSS\n",
    "ESS"
   ]
  },
  {
   "cell_type": "code",
   "execution_count": 6,
   "id": "a01247e3",
   "metadata": {},
   "outputs": [
    {
     "data": {
      "text/plain": [
       "0.61"
      ]
     },
     "execution_count": 6,
     "metadata": {},
     "output_type": "execute_result"
    }
   ],
   "source": [
    "R2=ESS/TSS\n",
    "round(R2,2)"
   ]
  },
  {
   "cell_type": "markdown",
   "id": "651a9144",
   "metadata": {},
   "source": [
    "$$\n",
    "ESS=147.3, R^2=0.61\n",
    "$$"
   ]
  }
 ],
 "metadata": {
  "kernelspec": {
   "display_name": "Python 3 (ipykernel)",
   "language": "python",
   "name": "python3"
  },
  "language_info": {
   "codemirror_mode": {
    "name": "ipython",
    "version": 3
   },
   "file_extension": ".py",
   "mimetype": "text/x-python",
   "name": "python",
   "nbconvert_exporter": "python",
   "pygments_lexer": "ipython3",
   "version": "3.9.13"
  }
 },
 "nbformat": 4,
 "nbformat_minor": 5
}
