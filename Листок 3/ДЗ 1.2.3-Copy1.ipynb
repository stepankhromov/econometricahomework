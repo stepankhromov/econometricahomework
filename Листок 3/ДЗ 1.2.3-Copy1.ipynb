{
 "cells": [
  {
   "cell_type": "markdown",
   "id": "67697965",
   "metadata": {},
   "source": [
    "# Задача 1.2.3"
   ]
  },
  {
   "cell_type": "code",
   "execution_count": 1,
   "id": "9918507e",
   "metadata": {},
   "outputs": [],
   "source": [
    "import pandas as pd\n",
    "import numpy as np\n",
    "import io\n",
    "import statsmodels.formula.api as smf"
   ]
  },
  {
   "cell_type": "code",
   "execution_count": 2,
   "id": "866a620f",
   "metadata": {},
   "outputs": [
    {
     "data": {
      "text/plain": [
       "1201.21"
      ]
     },
     "execution_count": 2,
     "metadata": {},
     "output_type": "execute_result"
    }
   ],
   "source": [
    "ESS=418.38\n",
    "RSS=782.83\n",
    "TSS=ESS+RSS\n",
    "round(TSS,2)"
   ]
  },
  {
   "cell_type": "code",
   "execution_count": 3,
   "id": "8f38c375",
   "metadata": {},
   "outputs": [
    {
     "data": {
      "text/plain": [
       "0.35"
      ]
     },
     "execution_count": 3,
     "metadata": {},
     "output_type": "execute_result"
    }
   ],
   "source": [
    "R2=ESS/TSS\n",
    "round(R2,2)"
   ]
  },
  {
   "cell_type": "markdown",
   "id": "1e7e75e5",
   "metadata": {},
   "source": [
    "$$\n",
    "TSS=1201.21, R^2=0.35\n",
    "$$"
   ]
  }
 ],
 "metadata": {
  "kernelspec": {
   "display_name": "Python 3 (ipykernel)",
   "language": "python",
   "name": "python3"
  },
  "language_info": {
   "codemirror_mode": {
    "name": "ipython",
    "version": 3
   },
   "file_extension": ".py",
   "mimetype": "text/x-python",
   "name": "python",
   "nbconvert_exporter": "python",
   "pygments_lexer": "ipython3",
   "version": "3.9.13"
  }
 },
 "nbformat": 4,
 "nbformat_minor": 5
}
