{
 "cells": [
  {
   "cell_type": "markdown",
   "id": "2720e567",
   "metadata": {},
   "source": [
    "# Задача 1.2.7"
   ]
  },
  {
   "cell_type": "code",
   "execution_count": 1,
   "id": "fc46fe20",
   "metadata": {},
   "outputs": [],
   "source": [
    "import pandas as pd\n",
    "import numpy as np\n",
    "import io\n",
    "import statsmodels.formula.api as smf"
   ]
  },
  {
   "cell_type": "code",
   "execution_count": 7,
   "id": "560a7fac",
   "metadata": {},
   "outputs": [],
   "source": [
    "n=935\n",
    "k=5\n",
    "s=0.378"
   ]
  },
  {
   "cell_type": "markdown",
   "id": "8b2fc886",
   "metadata": {},
   "source": [
    "## Стандартная ошибка регрессии вычисляется по формуле:\n",
    "$$\n",
    "s=\\sqrt{(\\frac{RSS}{(n-k-1)})}\n",
    "$$"
   ]
  },
  {
   "cell_type": "markdown",
   "id": "a2569850",
   "metadata": {},
   "source": [
    "## Тогда RSS вычисляется по формуле:\n",
    "$$\n",
    "RSS=(n-k-1)*s^2\n",
    "$$"
   ]
  },
  {
   "cell_type": "code",
   "execution_count": 9,
   "id": "3a993ca7",
   "metadata": {},
   "outputs": [
    {
     "data": {
      "text/plain": [
       "132.739"
      ]
     },
     "execution_count": 9,
     "metadata": {},
     "output_type": "execute_result"
    }
   ],
   "source": [
    "RSS=(n-k-1)*(s**2)\n",
    "round(RSS,3)"
   ]
  },
  {
   "cell_type": "markdown",
   "id": "8a8a72a1",
   "metadata": {},
   "source": [
    "$$\n",
    "RSS = 132.739\n",
    "$$"
   ]
  }
 ],
 "metadata": {
  "kernelspec": {
   "display_name": "Python 3 (ipykernel)",
   "language": "python",
   "name": "python3"
  },
  "language_info": {
   "codemirror_mode": {
    "name": "ipython",
    "version": 3
   },
   "file_extension": ".py",
   "mimetype": "text/x-python",
   "name": "python",
   "nbconvert_exporter": "python",
   "pygments_lexer": "ipython3",
   "version": "3.9.13"
  }
 },
 "nbformat": 4,
 "nbformat_minor": 5
}
