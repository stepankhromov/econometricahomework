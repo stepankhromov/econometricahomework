{
 "cells": [
  {
   "cell_type": "code",
   "execution_count": 1,
   "id": "5c82d9ab",
   "metadata": {},
   "outputs": [],
   "source": [
    "import pandas as pd\n",
    "import numpy as np\n",
    "import io\n",
    "import statsmodels.formula.api as smf"
   ]
  },
  {
   "cell_type": "code",
   "execution_count": 3,
   "id": "46f27dcc",
   "metadata": {},
   "outputs": [],
   "source": [
    "n=935\n",
    "k=4\n",
    "s=0.383\n",
    "R2=0.178"
   ]
  },
  {
   "cell_type": "markdown",
   "id": "02e79ebc",
   "metadata": {},
   "source": [
    "$$\n",
    "R^2 = 1-\\frac{RSS}{TSS}\n",
    "$$"
   ]
  },
  {
   "cell_type": "markdown",
   "id": "83bbc69e",
   "metadata": {},
   "source": [
    "# Тогда\n",
    "$$\n",
    "TSS = \\frac {RSS}{1-R^2} = \\frac {(n-k-1)*s^2}{1-R^2}\n",
    "$$"
   ]
  },
  {
   "cell_type": "code",
   "execution_count": 7,
   "id": "9b57af30",
   "metadata": {},
   "outputs": [
    {
     "data": {
      "text/plain": [
       "165.962"
      ]
     },
     "execution_count": 7,
     "metadata": {},
     "output_type": "execute_result"
    }
   ],
   "source": [
    "TSS=((n-k-1)*s**2)/(1-R2)\n",
    "round(TSS,3)"
   ]
  },
  {
   "cell_type": "markdown",
   "id": "e0d9d73b",
   "metadata": {},
   "source": [
    "$$\n",
    "TSS = 165.962\n",
    "$$"
   ]
  }
 ],
 "metadata": {
  "kernelspec": {
   "display_name": "Python 3 (ipykernel)",
   "language": "python",
   "name": "python3"
  },
  "language_info": {
   "codemirror_mode": {
    "name": "ipython",
    "version": 3
   },
   "file_extension": ".py",
   "mimetype": "text/x-python",
   "name": "python",
   "nbconvert_exporter": "python",
   "pygments_lexer": "ipython3",
   "version": "3.9.13"
  }
 },
 "nbformat": 4,
 "nbformat_minor": 5
}
