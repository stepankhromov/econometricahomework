{
 "cells": [
  {
   "cell_type": "code",
   "execution_count": 1,
   "id": "e580ada4",
   "metadata": {},
   "outputs": [],
   "source": [
    "import pandas as pd\n",
    "import numpy as np\n",
    "import io\n",
    "import statsmodels.formula.api as smf"
   ]
  },
  {
   "cell_type": "code",
   "execution_count": 2,
   "id": "f392b573",
   "metadata": {},
   "outputs": [],
   "source": [
    "n=935\n",
    "k=3\n",
    "R2=0.149\n",
    "s=0.389"
   ]
  },
  {
   "cell_type": "markdown",
   "id": "df910637",
   "metadata": {},
   "source": [
    "## RSS вычисляется по формуле:\n",
    "$$\n",
    "RSS=(n-k-1)*s^2\n",
    "$$"
   ]
  },
  {
   "cell_type": "code",
   "execution_count": 4,
   "id": "98736de3",
   "metadata": {},
   "outputs": [
    {
     "data": {
      "text/plain": [
       "140.88"
      ]
     },
     "execution_count": 4,
     "metadata": {},
     "output_type": "execute_result"
    }
   ],
   "source": [
    "RSS=(n-k-1)*(s**2)\n",
    "round(RSS,3)"
   ]
  },
  {
   "cell_type": "markdown",
   "id": "bd39f900",
   "metadata": {},
   "source": [
    "$$\n",
    "RSS = 140.88\n",
    "$$"
   ]
  },
  {
   "cell_type": "markdown",
   "id": "ef55854c",
   "metadata": {},
   "source": [
    "$$\n",
    "R^2 = 1-\\frac{RSS}{TSS}\n",
    "$$\n"
   ]
  },
  {
   "cell_type": "markdown",
   "id": "0b053d7b",
   "metadata": {},
   "source": [
    "# Тогда\n",
    "$$\n",
    "TSS = \\frac {RSS}{1-R^2} = \\frac {(n-k-1)*s^2}{1-R^2}\n",
    "$$"
   ]
  },
  {
   "cell_type": "code",
   "execution_count": 3,
   "id": "0d8b192c",
   "metadata": {},
   "outputs": [
    {
     "data": {
      "text/plain": [
       "165.546"
      ]
     },
     "execution_count": 3,
     "metadata": {},
     "output_type": "execute_result"
    }
   ],
   "source": [
    "TSS=((n-k-1)*s**2)/(1-R2)\n",
    "round(TSS,3)"
   ]
  },
  {
   "cell_type": "markdown",
   "id": "68accf5b",
   "metadata": {},
   "source": [
    "$$\n",
    "ESS = TSS - RSS\n",
    "$$"
   ]
  },
  {
   "cell_type": "code",
   "execution_count": 7,
   "id": "a4a5c9d7",
   "metadata": {},
   "outputs": [
    {
     "data": {
      "text/plain": [
       "24.666"
      ]
     },
     "execution_count": 7,
     "metadata": {},
     "output_type": "execute_result"
    }
   ],
   "source": [
    "ESS=TSS-RSS\n",
    "round(ESS,3)"
   ]
  },
  {
   "cell_type": "markdown",
   "id": "c0049cd0",
   "metadata": {},
   "source": [
    "$$\n",
    "ESS = 24.666\n",
    "$$"
   ]
  }
 ],
 "metadata": {
  "kernelspec": {
   "display_name": "Python 3 (ipykernel)",
   "language": "python",
   "name": "python3"
  },
  "language_info": {
   "codemirror_mode": {
    "name": "ipython",
    "version": 3
   },
   "file_extension": ".py",
   "mimetype": "text/x-python",
   "name": "python",
   "nbconvert_exporter": "python",
   "pygments_lexer": "ipython3",
   "version": "3.9.13"
  }
 },
 "nbformat": 4,
 "nbformat_minor": 5
}
