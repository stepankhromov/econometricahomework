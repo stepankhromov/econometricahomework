{
 "cells": [
  {
   "cell_type": "markdown",
   "id": "88fb0518",
   "metadata": {},
   "source": [
    "# Задача 2.1"
   ]
  },
  {
   "cell_type": "code",
   "execution_count": 4,
   "id": "669d3f23",
   "metadata": {},
   "outputs": [],
   "source": [
    "import pandas as pd\n",
    "import numpy as np\n",
    "import io\n",
    "import statsmodels.formula.api as smf"
   ]
  },
  {
   "cell_type": "markdown",
   "id": "d9c70776",
   "metadata": {},
   "source": [
    "$$\n",
    "R^2_{adj}=1-(1-R^2)*\\frac{(n-1)}{(n-k)}\n",
    "$$"
   ]
  },
  {
   "cell_type": "code",
   "execution_count": 5,
   "id": "a4165e4c",
   "metadata": {},
   "outputs": [],
   "source": [
    "n=526 \n",
    "k=5 \n",
    "R2=0.288"
   ]
  },
  {
   "cell_type": "code",
   "execution_count": 6,
   "id": "8eb3ee61",
   "metadata": {},
   "outputs": [
    {
     "data": {
      "text/plain": [
       "0.283"
      ]
     },
     "execution_count": 6,
     "metadata": {},
     "output_type": "execute_result"
    }
   ],
   "source": [
    "R2adj=1-(1-R2)*(n-1)/(n-k)\n",
    "round(R2adj,3)"
   ]
  },
  {
   "cell_type": "markdown",
   "id": "a1c604da",
   "metadata": {},
   "source": [
    "$$\n",
    "R^2_{adj}=0.283\n",
    "$$"
   ]
  }
 ],
 "metadata": {
  "kernelspec": {
   "display_name": "Python 3 (ipykernel)",
   "language": "python",
   "name": "python3"
  },
  "language_info": {
   "codemirror_mode": {
    "name": "ipython",
    "version": 3
   },
   "file_extension": ".py",
   "mimetype": "text/x-python",
   "name": "python",
   "nbconvert_exporter": "python",
   "pygments_lexer": "ipython3",
   "version": "3.9.13"
  }
 },
 "nbformat": 4,
 "nbformat_minor": 5
}
