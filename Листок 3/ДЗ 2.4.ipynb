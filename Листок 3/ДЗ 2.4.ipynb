{
 "cells": [
  {
   "cell_type": "markdown",
   "id": "29aff0ba",
   "metadata": {},
   "source": [
    "# Задача 2.4"
   ]
  },
  {
   "cell_type": "code",
   "execution_count": 1,
   "id": "d5c1287a",
   "metadata": {},
   "outputs": [],
   "source": [
    "import pandas as pd\n",
    "import numpy as np\n",
    "import io\n",
    "import statsmodels.formula.api as smf"
   ]
  },
  {
   "cell_type": "code",
   "execution_count": 2,
   "id": "26c4845f",
   "metadata": {},
   "outputs": [
    {
     "data": {
      "text/html": [
       "<div>\n",
       "<style scoped>\n",
       "    .dataframe tbody tr th:only-of-type {\n",
       "        vertical-align: middle;\n",
       "    }\n",
       "\n",
       "    .dataframe tbody tr th {\n",
       "        vertical-align: top;\n",
       "    }\n",
       "\n",
       "    .dataframe thead th {\n",
       "        text-align: right;\n",
       "    }\n",
       "</style>\n",
       "<table border=\"1\" class=\"dataframe\">\n",
       "  <thead>\n",
       "    <tr style=\"text-align: right;\">\n",
       "      <th></th>\n",
       "      <th>log(output)</th>\n",
       "      <th>log(capital)</th>\n",
       "      <th>log(labour)</th>\n",
       "      <th>y.hat</th>\n",
       "    </tr>\n",
       "  </thead>\n",
       "  <tbody>\n",
       "    <tr>\n",
       "      <th>0</th>\n",
       "      <td>2.22</td>\n",
       "      <td>0.96</td>\n",
       "      <td>5.21</td>\n",
       "      <td>2.19</td>\n",
       "    </tr>\n",
       "    <tr>\n",
       "      <th>1</th>\n",
       "      <td>1.30</td>\n",
       "      <td>0.28</td>\n",
       "      <td>4.51</td>\n",
       "      <td>1.47</td>\n",
       "    </tr>\n",
       "    <tr>\n",
       "      <th>2</th>\n",
       "      <td>3.36</td>\n",
       "      <td>3.10</td>\n",
       "      <td>6.05</td>\n",
       "      <td>3.23</td>\n",
       "    </tr>\n",
       "    <tr>\n",
       "      <th>3</th>\n",
       "      <td>1.42</td>\n",
       "      <td>2.37</td>\n",
       "      <td>4.28</td>\n",
       "      <td>1.56</td>\n",
       "    </tr>\n",
       "    <tr>\n",
       "      <th>4</th>\n",
       "      <td>1.06</td>\n",
       "      <td>0.15</td>\n",
       "      <td>3.83</td>\n",
       "      <td>0.85</td>\n",
       "    </tr>\n",
       "    <tr>\n",
       "      <th>5</th>\n",
       "      <td>6.17</td>\n",
       "      <td>5.62</td>\n",
       "      <td>8.94</td>\n",
       "      <td>6.15</td>\n",
       "    </tr>\n",
       "    <tr>\n",
       "      <th>6</th>\n",
       "      <td>0.77</td>\n",
       "      <td>0.52</td>\n",
       "      <td>3.87</td>\n",
       "      <td>0.94</td>\n",
       "    </tr>\n",
       "    <tr>\n",
       "      <th>7</th>\n",
       "      <td>1.42</td>\n",
       "      <td>0.15</td>\n",
       "      <td>4.68</td>\n",
       "      <td>1.61</td>\n",
       "    </tr>\n",
       "    <tr>\n",
       "      <th>8</th>\n",
       "      <td>0.90</td>\n",
       "      <td>-0.13</td>\n",
       "      <td>3.56</td>\n",
       "      <td>0.57</td>\n",
       "    </tr>\n",
       "    <tr>\n",
       "      <th>9</th>\n",
       "      <td>1.35</td>\n",
       "      <td>1.25</td>\n",
       "      <td>4.28</td>\n",
       "      <td>1.40</td>\n",
       "    </tr>\n",
       "  </tbody>\n",
       "</table>\n",
       "</div>"
      ],
      "text/plain": [
       "   log(output)  log(capital)  log(labour)  y.hat\n",
       "0         2.22          0.96         5.21   2.19\n",
       "1         1.30          0.28         4.51   1.47\n",
       "2         3.36          3.10         6.05   3.23\n",
       "3         1.42          2.37         4.28   1.56\n",
       "4         1.06          0.15         3.83   0.85\n",
       "5         6.17          5.62         8.94   6.15\n",
       "6         0.77          0.52         3.87   0.94\n",
       "7         1.42          0.15         4.68   1.61\n",
       "8         0.90         -0.13         3.56   0.57\n",
       "9         1.35          1.25         4.28   1.40"
      ]
     },
     "execution_count": 2,
     "metadata": {},
     "output_type": "execute_result"
    }
   ],
   "source": [
    "data_string='''log(output) log(capital) log(labour) y.hat\n",
    "2.22            0.96        5.21     2.19 \n",
    "1.30            0.28        4.51     1.47 \n",
    "3.36            3.10        6.05     3.23 \n",
    "1.42            2.37        4.28     1.56 \n",
    "1.06            0.15        3.83     0.85 \n",
    "6.17            5.62        8.94     6.15 \n",
    "0.77            0.52        3.87     0.94 \n",
    "1.42            0.15        4.68     1.61 \n",
    "0.90           -0.13        3.56     0.57 \n",
    "1.35            1.25        4.28     1.40\n",
    "'''\n",
    "df = pd.read_csv(io.StringIO(data_string), sep='\\s+')\n",
    "df"
   ]
  },
  {
   "cell_type": "code",
   "execution_count": 3,
   "id": "d5fbd405",
   "metadata": {},
   "outputs": [
    {
     "data": {
      "text/plain": [
       "24.25"
      ]
     },
     "execution_count": 3,
     "metadata": {},
     "output_type": "execute_result"
    }
   ],
   "source": [
    "ESS = ((df['y.hat'] - np.mean(df['log(output)']))**2).sum()\n",
    "ESS.round(2)"
   ]
  },
  {
   "cell_type": "code",
   "execution_count": 4,
   "id": "3cd6bd5b",
   "metadata": {},
   "outputs": [
    {
     "data": {
      "text/plain": [
       "24.48"
      ]
     },
     "execution_count": 4,
     "metadata": {},
     "output_type": "execute_result"
    }
   ],
   "source": [
    "TSS = ((df['log(output)'] - np.mean(df['log(output)']))**2).sum()\n",
    "TSS.round(2)"
   ]
  },
  {
   "cell_type": "code",
   "execution_count": 5,
   "id": "54ca6086",
   "metadata": {
    "scrolled": false
   },
   "outputs": [
    {
     "data": {
      "text/plain": [
       "0.99"
      ]
     },
     "execution_count": 5,
     "metadata": {},
     "output_type": "execute_result"
    }
   ],
   "source": [
    "R2=ESS/TSS\n",
    "round(R2,2)"
   ]
  },
  {
   "cell_type": "code",
   "execution_count": 9,
   "id": "73d952e1",
   "metadata": {},
   "outputs": [
    {
     "data": {
      "text/plain": [
       "0.99"
      ]
     },
     "execution_count": 9,
     "metadata": {},
     "output_type": "execute_result"
    }
   ],
   "source": [
    "n=10\n",
    "k=2\n",
    "R2adj=1-(1-R2)*(n-1)/(n-k)\n",
    "round(R2adj,2)\n",
    "# не сходится с ответом из-за k. См. комментарий к задаче 2.3!"
   ]
  },
  {
   "cell_type": "markdown",
   "id": "ce63f718",
   "metadata": {},
   "source": [
    "$$\n",
    "R^2_{adj}=0.99\n",
    "$$"
   ]
  }
 ],
 "metadata": {
  "kernelspec": {
   "display_name": "Python 3 (ipykernel)",
   "language": "python",
   "name": "python3"
  },
  "language_info": {
   "codemirror_mode": {
    "name": "ipython",
    "version": 3
   },
   "file_extension": ".py",
   "mimetype": "text/x-python",
   "name": "python",
   "nbconvert_exporter": "python",
   "pygments_lexer": "ipython3",
   "version": "3.9.13"
  }
 },
 "nbformat": 4,
 "nbformat_minor": 5
}
