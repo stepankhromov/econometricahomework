{
 "cells": [
  {
   "cell_type": "markdown",
   "id": "ba20a893",
   "metadata": {},
   "source": [
    "## по домашнему заданию замечаний нет. исправил файл для теста PR"
   ]
  },
  {
   "cell_type": "markdown",
   "id": "a4403944",
   "metadata": {},
   "source": []
  }
 ],
 "metadata": {
  "language_info": {
   "name": "python"
  }
 },
 "nbformat": 4,
 "nbformat_minor": 5
}
