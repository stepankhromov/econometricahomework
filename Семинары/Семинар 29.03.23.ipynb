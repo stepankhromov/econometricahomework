{
 "cells": [
  {
   "cell_type": "markdown",
   "id": "245ca7df",
   "metadata": {},
   "source": [
    "# Задача 1.1"
   ]
  },
  {
   "cell_type": "code",
   "execution_count": 14,
   "id": "03b989e9",
   "metadata": {},
   "outputs": [],
   "source": [
    "import numpy as np\n",
    "import pandas as pd\n",
    "import io\n",
    "import statsmodels.formula.api as smf\n",
    "import scipy.stats as stats\n",
    "import re "
   ]
  },
  {
   "cell_type": "code",
   "execution_count": 15,
   "id": "9d1f76c2",
   "metadata": {},
   "outputs": [],
   "source": [
    "data_string='''Observations     706         706         706         706    \n",
    "R2              0.132       0.131       0.128       0.007   \n",
    "Adjusted_R2     0.121       0.123       0.121       0.002 '''"
   ]
  },
  {
   "cell_type": "code",
   "execution_count": 21,
   "id": "c73bb11b",
   "metadata": {
    "scrolled": true
   },
   "outputs": [
    {
     "data": {
      "text/html": [
       "<div>\n",
       "<style scoped>\n",
       "    .dataframe tbody tr th:only-of-type {\n",
       "        vertical-align: middle;\n",
       "    }\n",
       "\n",
       "    .dataframe tbody tr th {\n",
       "        vertical-align: top;\n",
       "    }\n",
       "\n",
       "    .dataframe thead th {\n",
       "        text-align: right;\n",
       "    }\n",
       "</style>\n",
       "<table border=\"1\" class=\"dataframe\">\n",
       "  <thead>\n",
       "    <tr style=\"text-align: right;\">\n",
       "      <th></th>\n",
       "      <th>1</th>\n",
       "      <th>2</th>\n",
       "      <th>3</th>\n",
       "      <th>4</th>\n",
       "    </tr>\n",
       "    <tr>\n",
       "      <th>0</th>\n",
       "      <th></th>\n",
       "      <th></th>\n",
       "      <th></th>\n",
       "      <th></th>\n",
       "    </tr>\n",
       "  </thead>\n",
       "  <tbody>\n",
       "    <tr>\n",
       "      <th>Observations</th>\n",
       "      <td>706.000</td>\n",
       "      <td>706.000</td>\n",
       "      <td>706.000</td>\n",
       "      <td>706.000</td>\n",
       "    </tr>\n",
       "    <tr>\n",
       "      <th>R2</th>\n",
       "      <td>0.132</td>\n",
       "      <td>0.131</td>\n",
       "      <td>0.128</td>\n",
       "      <td>0.007</td>\n",
       "    </tr>\n",
       "    <tr>\n",
       "      <th>Adjusted_R2</th>\n",
       "      <td>0.121</td>\n",
       "      <td>0.123</td>\n",
       "      <td>0.121</td>\n",
       "      <td>0.002</td>\n",
       "    </tr>\n",
       "  </tbody>\n",
       "</table>\n",
       "</div>"
      ],
      "text/plain": [
       "                    1        2        3        4\n",
       "0                                               \n",
       "Observations  706.000  706.000  706.000  706.000\n",
       "R2              0.132    0.131    0.128    0.007\n",
       "Adjusted_R2     0.121    0.123    0.121    0.002"
      ]
     },
     "execution_count": 21,
     "metadata": {},
     "output_type": "execute_result"
    }
   ],
   "source": [
    "df = pd.read_csv(io.StringIO(data_string), sep='\\s+', header=None, index_col=0) # header=None - нет заголовков, просто нумерация строк\n",
    "df"
   ]
  },
  {
   "cell_type": "code",
   "execution_count": 26,
   "id": "de1e0165",
   "metadata": {},
   "outputs": [
    {
     "data": {
      "text/html": [
       "<div>\n",
       "<style scoped>\n",
       "    .dataframe tbody tr th:only-of-type {\n",
       "        vertical-align: middle;\n",
       "    }\n",
       "\n",
       "    .dataframe tbody tr th {\n",
       "        vertical-align: top;\n",
       "    }\n",
       "\n",
       "    .dataframe thead th {\n",
       "        text-align: right;\n",
       "    }\n",
       "</style>\n",
       "<table border=\"1\" class=\"dataframe\">\n",
       "  <thead>\n",
       "    <tr style=\"text-align: right;\">\n",
       "      <th></th>\n",
       "      <th>0</th>\n",
       "      <th>1</th>\n",
       "      <th>2</th>\n",
       "      <th>3</th>\n",
       "      <th>4</th>\n",
       "    </tr>\n",
       "  </thead>\n",
       "  <tbody>\n",
       "    <tr>\n",
       "      <th>0</th>\n",
       "      <td>Observations</td>\n",
       "      <td>706.000</td>\n",
       "      <td>706.000</td>\n",
       "      <td>706.000</td>\n",
       "      <td>706.000</td>\n",
       "    </tr>\n",
       "    <tr>\n",
       "      <th>1</th>\n",
       "      <td>R2</td>\n",
       "      <td>0.132</td>\n",
       "      <td>0.131</td>\n",
       "      <td>0.128</td>\n",
       "      <td>0.007</td>\n",
       "    </tr>\n",
       "    <tr>\n",
       "      <th>2</th>\n",
       "      <td>Adjusted_R2</td>\n",
       "      <td>0.121</td>\n",
       "      <td>0.123</td>\n",
       "      <td>0.121</td>\n",
       "      <td>0.002</td>\n",
       "    </tr>\n",
       "  </tbody>\n",
       "</table>\n",
       "</div>"
      ],
      "text/plain": [
       "              0        1        2        3        4\n",
       "0  Observations  706.000  706.000  706.000  706.000\n",
       "1            R2    0.132    0.131    0.128    0.007\n",
       "2   Adjusted_R2    0.121    0.123    0.121    0.002"
      ]
     },
     "execution_count": 26,
     "metadata": {},
     "output_type": "execute_result"
    }
   ],
   "source": [
    "df.reset_index()"
   ]
  },
  {
   "cell_type": "code",
   "execution_count": 27,
   "id": "dcd94fcd",
   "metadata": {},
   "outputs": [
    {
     "data": {
      "text/html": [
       "<div>\n",
       "<style scoped>\n",
       "    .dataframe tbody tr th:only-of-type {\n",
       "        vertical-align: middle;\n",
       "    }\n",
       "\n",
       "    .dataframe tbody tr th {\n",
       "        vertical-align: top;\n",
       "    }\n",
       "\n",
       "    .dataframe thead th {\n",
       "        text-align: right;\n",
       "    }\n",
       "</style>\n",
       "<table border=\"1\" class=\"dataframe\">\n",
       "  <thead>\n",
       "    <tr style=\"text-align: right;\">\n",
       "      <th></th>\n",
       "      <th>Observations</th>\n",
       "      <th>R2</th>\n",
       "      <th>Adjusted_R2</th>\n",
       "    </tr>\n",
       "  </thead>\n",
       "  <tbody>\n",
       "    <tr>\n",
       "      <th>1</th>\n",
       "      <td>706.0</td>\n",
       "      <td>0.132</td>\n",
       "      <td>0.121</td>\n",
       "    </tr>\n",
       "    <tr>\n",
       "      <th>2</th>\n",
       "      <td>706.0</td>\n",
       "      <td>0.131</td>\n",
       "      <td>0.123</td>\n",
       "    </tr>\n",
       "    <tr>\n",
       "      <th>3</th>\n",
       "      <td>706.0</td>\n",
       "      <td>0.128</td>\n",
       "      <td>0.121</td>\n",
       "    </tr>\n",
       "    <tr>\n",
       "      <th>4</th>\n",
       "      <td>706.0</td>\n",
       "      <td>0.007</td>\n",
       "      <td>0.002</td>\n",
       "    </tr>\n",
       "  </tbody>\n",
       "</table>\n",
       "</div>"
      ],
      "text/plain": [
       "0  Observations     R2  Adjusted_R2\n",
       "1         706.0  0.132        0.121\n",
       "2         706.0  0.131        0.123\n",
       "3         706.0  0.128        0.121\n",
       "4         706.0  0.007        0.002"
      ]
     },
     "execution_count": 27,
     "metadata": {},
     "output_type": "execute_result"
    }
   ],
   "source": [
    "df=df.transpose() #транспонируем \n",
    "df"
   ]
  },
  {
   "cell_type": "code",
   "execution_count": 29,
   "id": "31a86853",
   "metadata": {},
   "outputs": [
    {
     "data": {
      "text/html": [
       "<div>\n",
       "<style scoped>\n",
       "    .dataframe tbody tr th:only-of-type {\n",
       "        vertical-align: middle;\n",
       "    }\n",
       "\n",
       "    .dataframe tbody tr th {\n",
       "        vertical-align: top;\n",
       "    }\n",
       "\n",
       "    .dataframe thead th {\n",
       "        text-align: right;\n",
       "    }\n",
       "</style>\n",
       "<table border=\"1\" class=\"dataframe\">\n",
       "  <thead>\n",
       "    <tr style=\"text-align: right;\">\n",
       "      <th></th>\n",
       "      <th>Observations</th>\n",
       "      <th>R2</th>\n",
       "      <th>Adjusted_R2</th>\n",
       "      <th>m</th>\n",
       "    </tr>\n",
       "  </thead>\n",
       "  <tbody>\n",
       "    <tr>\n",
       "      <th>1</th>\n",
       "      <td>706.0</td>\n",
       "      <td>0.132</td>\n",
       "      <td>0.121</td>\n",
       "      <td>10</td>\n",
       "    </tr>\n",
       "    <tr>\n",
       "      <th>2</th>\n",
       "      <td>706.0</td>\n",
       "      <td>0.131</td>\n",
       "      <td>0.123</td>\n",
       "      <td>8</td>\n",
       "    </tr>\n",
       "    <tr>\n",
       "      <th>3</th>\n",
       "      <td>706.0</td>\n",
       "      <td>0.128</td>\n",
       "      <td>0.121</td>\n",
       "      <td>6</td>\n",
       "    </tr>\n",
       "    <tr>\n",
       "      <th>4</th>\n",
       "      <td>706.0</td>\n",
       "      <td>0.007</td>\n",
       "      <td>0.002</td>\n",
       "      <td>5</td>\n",
       "    </tr>\n",
       "  </tbody>\n",
       "</table>\n",
       "</div>"
      ],
      "text/plain": [
       "0  Observations     R2  Adjusted_R2   m\n",
       "1         706.0  0.132        0.121  10\n",
       "2         706.0  0.131        0.123   8\n",
       "3         706.0  0.128        0.121   6\n",
       "4         706.0  0.007        0.002   5"
      ]
     },
     "execution_count": 29,
     "metadata": {},
     "output_type": "execute_result"
    }
   ],
   "source": [
    "df['m']=[10,8,6,5] #создаем столбец m\n",
    "df"
   ]
  },
  {
   "cell_type": "code",
   "execution_count": 32,
   "id": "61df750c",
   "metadata": {},
   "outputs": [
    {
     "data": {
      "text/html": [
       "<div>\n",
       "<style scoped>\n",
       "    .dataframe tbody tr th:only-of-type {\n",
       "        vertical-align: middle;\n",
       "    }\n",
       "\n",
       "    .dataframe tbody tr th {\n",
       "        vertical-align: top;\n",
       "    }\n",
       "\n",
       "    .dataframe thead th {\n",
       "        text-align: right;\n",
       "    }\n",
       "</style>\n",
       "<table border=\"1\" class=\"dataframe\">\n",
       "  <thead>\n",
       "    <tr style=\"text-align: right;\">\n",
       "      <th></th>\n",
       "      <th>Observations</th>\n",
       "      <th>R2</th>\n",
       "      <th>Adjusted_R2</th>\n",
       "      <th>m</th>\n",
       "      <th>F_obs</th>\n",
       "    </tr>\n",
       "  </thead>\n",
       "  <tbody>\n",
       "    <tr>\n",
       "      <th>1</th>\n",
       "      <td>706.0</td>\n",
       "      <td>0.132</td>\n",
       "      <td>0.121</td>\n",
       "      <td>10</td>\n",
       "      <td>11.760369</td>\n",
       "    </tr>\n",
       "    <tr>\n",
       "      <th>2</th>\n",
       "      <td>706.0</td>\n",
       "      <td>0.131</td>\n",
       "      <td>0.123</td>\n",
       "      <td>8</td>\n",
       "      <td>15.031728</td>\n",
       "    </tr>\n",
       "    <tr>\n",
       "      <th>3</th>\n",
       "      <td>706.0</td>\n",
       "      <td>0.128</td>\n",
       "      <td>0.121</td>\n",
       "      <td>6</td>\n",
       "      <td>20.550459</td>\n",
       "    </tr>\n",
       "    <tr>\n",
       "      <th>4</th>\n",
       "      <td>706.0</td>\n",
       "      <td>0.007</td>\n",
       "      <td>0.002</td>\n",
       "      <td>5</td>\n",
       "      <td>1.235398</td>\n",
       "    </tr>\n",
       "  </tbody>\n",
       "</table>\n",
       "</div>"
      ],
      "text/plain": [
       "0  Observations     R2  Adjusted_R2   m      F_obs\n",
       "1         706.0  0.132        0.121  10  11.760369\n",
       "2         706.0  0.131        0.123   8  15.031728\n",
       "3         706.0  0.128        0.121   6  20.550459\n",
       "4         706.0  0.007        0.002   5   1.235398"
      ]
     },
     "execution_count": 32,
     "metadata": {},
     "output_type": "execute_result"
    }
   ],
   "source": [
    "df['F_obs']=(df['R2']/(1-df['R2']))*((df['Observations']-df['m']))/((df['m']-1))\n",
    "df"
   ]
  },
  {
   "cell_type": "code",
   "execution_count": 36,
   "id": "c43952e2",
   "metadata": {},
   "outputs": [
    {
     "data": {
      "text/html": [
       "<div>\n",
       "<style scoped>\n",
       "    .dataframe tbody tr th:only-of-type {\n",
       "        vertical-align: middle;\n",
       "    }\n",
       "\n",
       "    .dataframe tbody tr th {\n",
       "        vertical-align: top;\n",
       "    }\n",
       "\n",
       "    .dataframe thead th {\n",
       "        text-align: right;\n",
       "    }\n",
       "</style>\n",
       "<table border=\"1\" class=\"dataframe\">\n",
       "  <thead>\n",
       "    <tr style=\"text-align: right;\">\n",
       "      <th></th>\n",
       "      <th>Observations</th>\n",
       "      <th>R2</th>\n",
       "      <th>Adjusted_R2</th>\n",
       "      <th>m</th>\n",
       "      <th>F_obs</th>\n",
       "      <th>F_cr</th>\n",
       "    </tr>\n",
       "  </thead>\n",
       "  <tbody>\n",
       "    <tr>\n",
       "      <th>1</th>\n",
       "      <td>706.0</td>\n",
       "      <td>0.132</td>\n",
       "      <td>0.121</td>\n",
       "      <td>10</td>\n",
       "      <td>11.760369</td>\n",
       "      <td>1.893317</td>\n",
       "    </tr>\n",
       "    <tr>\n",
       "      <th>2</th>\n",
       "      <td>706.0</td>\n",
       "      <td>0.131</td>\n",
       "      <td>0.123</td>\n",
       "      <td>8</td>\n",
       "      <td>15.031728</td>\n",
       "      <td>2.022681</td>\n",
       "    </tr>\n",
       "    <tr>\n",
       "      <th>3</th>\n",
       "      <td>706.0</td>\n",
       "      <td>0.128</td>\n",
       "      <td>0.121</td>\n",
       "      <td>6</td>\n",
       "      <td>20.550459</td>\n",
       "      <td>2.226901</td>\n",
       "    </tr>\n",
       "    <tr>\n",
       "      <th>4</th>\n",
       "      <td>706.0</td>\n",
       "      <td>0.007</td>\n",
       "      <td>0.002</td>\n",
       "      <td>5</td>\n",
       "      <td>1.235398</td>\n",
       "      <td>2.384638</td>\n",
       "    </tr>\n",
       "  </tbody>\n",
       "</table>\n",
       "</div>"
      ],
      "text/plain": [
       "0  Observations     R2  Adjusted_R2   m      F_obs      F_cr\n",
       "1         706.0  0.132        0.121  10  11.760369  1.893317\n",
       "2         706.0  0.131        0.123   8  15.031728  2.022681\n",
       "3         706.0  0.128        0.121   6  20.550459  2.226901\n",
       "4         706.0  0.007        0.002   5   1.235398  2.384638"
      ]
     },
     "execution_count": 36,
     "metadata": {},
     "output_type": "execute_result"
    }
   ],
   "source": [
    "alpha=0.05\n",
    "df['F_cr']=stats.f.ppf(1-alpha, df['m']-1, df['Observations']-df['m']) # F(alpha, k, n-k)\n",
    "df"
   ]
  },
  {
   "cell_type": "code",
   "execution_count": 40,
   "id": "6c31ee74",
   "metadata": {
    "scrolled": true
   },
   "outputs": [
    {
     "data": {
      "text/html": [
       "<div>\n",
       "<style scoped>\n",
       "    .dataframe tbody tr th:only-of-type {\n",
       "        vertical-align: middle;\n",
       "    }\n",
       "\n",
       "    .dataframe tbody tr th {\n",
       "        vertical-align: top;\n",
       "    }\n",
       "\n",
       "    .dataframe thead th {\n",
       "        text-align: right;\n",
       "    }\n",
       "</style>\n",
       "<table border=\"1\" class=\"dataframe\">\n",
       "  <thead>\n",
       "    <tr style=\"text-align: right;\">\n",
       "      <th></th>\n",
       "      <th>Observations</th>\n",
       "      <th>R2</th>\n",
       "      <th>Adjusted_R2</th>\n",
       "      <th>m</th>\n",
       "      <th>F_obs</th>\n",
       "      <th>F_cr</th>\n",
       "      <th>znachimost</th>\n",
       "    </tr>\n",
       "  </thead>\n",
       "  <tbody>\n",
       "    <tr>\n",
       "      <th>1</th>\n",
       "      <td>706.0</td>\n",
       "      <td>0.132</td>\n",
       "      <td>0.121</td>\n",
       "      <td>10</td>\n",
       "      <td>11.760369</td>\n",
       "      <td>1.893317</td>\n",
       "      <td>znachimo</td>\n",
       "    </tr>\n",
       "    <tr>\n",
       "      <th>2</th>\n",
       "      <td>706.0</td>\n",
       "      <td>0.131</td>\n",
       "      <td>0.123</td>\n",
       "      <td>8</td>\n",
       "      <td>15.031728</td>\n",
       "      <td>2.022681</td>\n",
       "      <td>znachimo</td>\n",
       "    </tr>\n",
       "    <tr>\n",
       "      <th>3</th>\n",
       "      <td>706.0</td>\n",
       "      <td>0.128</td>\n",
       "      <td>0.121</td>\n",
       "      <td>6</td>\n",
       "      <td>20.550459</td>\n",
       "      <td>2.226901</td>\n",
       "      <td>znachimo</td>\n",
       "    </tr>\n",
       "    <tr>\n",
       "      <th>4</th>\n",
       "      <td>706.0</td>\n",
       "      <td>0.007</td>\n",
       "      <td>0.002</td>\n",
       "      <td>5</td>\n",
       "      <td>1.235398</td>\n",
       "      <td>2.384638</td>\n",
       "      <td>ne znachimo</td>\n",
       "    </tr>\n",
       "  </tbody>\n",
       "</table>\n",
       "</div>"
      ],
      "text/plain": [
       "0  Observations     R2  Adjusted_R2   m      F_obs      F_cr   znachimost\n",
       "1         706.0  0.132        0.121  10  11.760369  1.893317     znachimo\n",
       "2         706.0  0.131        0.123   8  15.031728  2.022681     znachimo\n",
       "3         706.0  0.128        0.121   6  20.550459  2.226901     znachimo\n",
       "4         706.0  0.007        0.002   5   1.235398  2.384638  ne znachimo"
      ]
     },
     "execution_count": 40,
     "metadata": {},
     "output_type": "execute_result"
    }
   ],
   "source": [
    "df['znachimost'] = df.apply(lambda x: 'znachimo' if x['F_obs'] > x['F_cr'] else 'ne znachimo', axis = 1)\n",
    "df"
   ]
  },
  {
   "cell_type": "markdown",
   "id": "7be10e8c",
   "metadata": {},
   "source": [
    "$$ H_0: \\beta_0 = \\beta_1 = \\dots = \\beta_k = 0 $$\n",
    "$$ H_1: \\beta_{0}^2 + \\beta_{1}^2 + \\dots \\beta_k^{2} > 0$$"
   ]
  },
  {
   "cell_type": "markdown",
   "id": "84ffb7a9",
   "metadata": {},
   "source": [
    "# Задача 2.1"
   ]
  },
  {
   "cell_type": "markdown",
   "id": "47aa3870",
   "metadata": {},
   "source": [
    "$$ H_0: \\beta_{marr} = \\beta_{union} = \\beta_{yngkid} = \\beta_{smsa} = 0 $$\n",
    "$$ H_1: \\beta_{marr}^2 + \\beta_{union}^2 + \\beta_{yngkid}^2 + \\beta_{smsa}^2 > 0 $$\n"
   ]
  },
  {
   "cell_type": "code",
   "execution_count": 43,
   "id": "5ae97ef2",
   "metadata": {},
   "outputs": [
    {
     "name": "stdout",
     "output_type": "stream",
     "text": [
      "0.131 0.127\n"
     ]
    }
   ],
   "source": [
    "# определяет, нужен + или -; будет упоминаться либо один раз, либо 0; \\d - любая цифра, \\d+ бесконечное кол-во раз\n",
    "# regex101.com, подсвечиваем все десятичные числа\n",
    "# findall вовзращает список элементов, удовлетворяющих условию\n",
    "unrest, rest = np.float_(re.findall(r'([-+]?\\d+.\\d+)', 'R2                      0.131          0.127 '))\n",
    "print(unrest, rest)"
   ]
  },
  {
   "cell_type": "code",
   "execution_count": 46,
   "id": "a93565d6",
   "metadata": {},
   "outputs": [
    {
     "data": {
      "text/plain": [
       "0.802"
      ]
     },
     "execution_count": 46,
     "metadata": {},
     "output_type": "execute_result"
    }
   ],
   "source": [
    "# даны квадраты!\n",
    "F_obs=(unrest-rest)/(1-unrest)*(706-9)/(4)\n",
    "round(F_obs,3)"
   ]
  },
  {
   "cell_type": "code",
   "execution_count": 49,
   "id": "6c3081ee",
   "metadata": {},
   "outputs": [
    {
     "data": {
      "text/plain": [
       "2.385"
      ]
     },
     "execution_count": 49,
     "metadata": {},
     "output_type": "execute_result"
    }
   ],
   "source": [
    "alpha=0.05\n",
    "F_cr=stats.f.ppf(1-alpha,4,706-9)\n",
    "round(F_cr,3) # (1-alpha, q, n-k)"
   ]
  },
  {
   "cell_type": "markdown",
   "id": "d748e6f2",
   "metadata": {},
   "source": [
    "$$ F_{obs} < F_{critical} $ следовательно, данные согласуются с гипотезой $H_0"
   ]
  }
 ],
 "metadata": {
  "kernelspec": {
   "display_name": "Python 3 (ipykernel)",
   "language": "python",
   "name": "python3"
  },
  "language_info": {
   "codemirror_mode": {
    "name": "ipython",
    "version": 3
   },
   "file_extension": ".py",
   "mimetype": "text/x-python",
   "name": "python",
   "nbconvert_exporter": "python",
   "pygments_lexer": "ipython3",
   "version": "3.9.16"
  }
 },
 "nbformat": 4,
 "nbformat_minor": 5
}
